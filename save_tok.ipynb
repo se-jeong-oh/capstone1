{
 "cells": [
  {
   "cell_type": "code",
   "execution_count": null,
   "metadata": {},
   "outputs": [],
   "source": []
  }
 ],
 "metadata": {
  "kernelspec": {
   "display_name": "Python 3.8.13 ('sej')",
   "language": "python",
   "name": "python3"
  },
  "language_info": {
   "name": "python",
   "version": "3.8.13"
  },
  "orig_nbformat": 4,
  "vscode": {
   "interpreter": {
    "hash": "df641e524f2ef1512688c15803d5468d2795ca63853c35db4f682d3b1eb99a87"
   }
  }
 },
 "nbformat": 4,
 "nbformat_minor": 2
}
