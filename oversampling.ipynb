{
 "cells": [
  {
   "cell_type": "code",
   "execution_count": null,
   "metadata": {},
   "outputs": [],
   "source": []
  },
  {
   "cell_type": "code",
   "execution_count": 13,
   "metadata": {},
   "outputs": [
    {
     "name": "stdout",
     "output_type": "stream",
     "text": [
      "[368737, 161471, 82812, 67875, 64002, 61957, 24679, 20823, 5668, 4945, 4200, 13356]\n"
     ]
    }
   ],
   "source": [
    "import pandas as pd\n",
    "\n",
    "N = 12\n",
    "\n",
    "x_train = pd.read_pickle('./data/x_train_oversamp')\n",
    "y_train = pd.read_pickle('./data/y_train_oversamp')\n",
    "\n",
    "lab = [0 for _ in range(N)]\n",
    "\n",
    "for y in y_train:\n",
    "    lab[y] += 1\n",
    "\n",
    "print(lab)"
   ]
  },
  {
   "cell_type": "code",
   "execution_count": 2,
   "metadata": {},
   "outputs": [],
   "source": [
    "x_train_list = list(x_train)\n",
    "y_train_list = list(y_train)"
   ]
  },
  {
   "cell_type": "code",
   "execution_count": 10,
   "metadata": {},
   "outputs": [
    {
     "name": "stdout",
     "output_type": "stream",
     "text": [
      "[368737, 368737, 368737, 368737, 368737, 368737, 368737, 368737, 368737, 368737, 368737, 368737]\n"
     ]
    }
   ],
   "source": [
    "minimum = 368737\n",
    "append_x = []\n",
    "append_y = []\n",
    "for x, y in zip(x_train_list, y_train_list):\n",
    "    if lab[y] < minimum:\n",
    "        append_x.append(x)\n",
    "        append_y.append(y)\n",
    "        lab[y] += 1\n",
    "x_train_list += append_x\n",
    "y_train_list += append_y\n",
    "print(lab)"
   ]
  },
  {
   "cell_type": "code",
   "execution_count": 11,
   "metadata": {},
   "outputs": [
    {
     "name": "stderr",
     "output_type": "stream",
     "text": [
      "/tmp/ipykernel_1227149/1609176253.py:3: VisibleDeprecationWarning: Creating an ndarray from ragged nested sequences (which is a list-or-tuple of lists-or-tuples-or ndarrays with different lengths or shapes) is deprecated. If you meant to do this, you must specify 'dtype=object' when creating the ndarray.\n",
      "  x_train_np = np.array(x_train_list)\n"
     ]
    }
   ],
   "source": [
    "import numpy as np\n",
    "\n",
    "x_train_np = np.array(x_train_list)\n",
    "y_train_np = np.array(y_train_list)"
   ]
  },
  {
   "cell_type": "code",
   "execution_count": 12,
   "metadata": {},
   "outputs": [],
   "source": [
    "import pickle \n",
    "\n",
    "with open('./data/x_train_368737_oversamp', 'wb') as f:\n",
    "    pickle.dump(x_train_np, f)\n",
    "\n",
    "with open('./data/y_train_368737_oversamp', 'wb') as f:\n",
    "    pickle.dump(y_train_np, f)"
   ]
  },
  {
   "cell_type": "code",
   "execution_count": 1,
   "metadata": {},
   "outputs": [
    {
     "name": "stdout",
     "output_type": "stream",
     "text": [
      "(880525,)\n"
     ]
    }
   ],
   "source": [
    "\n"
   ]
  },
  {
   "cell_type": "code",
   "execution_count": 2,
   "metadata": {},
   "outputs": [],
   "source": [
    "from time import sleep\n",
    "import numpy as np\n",
    "import pandas as pd\n",
    "\n",
    "x_train = pd.read_pickle('./data/x_train_4200_undersamp')\n",
    "y_train = pd.read_pickle('./data/y_train_4200_undersamp')\n",
    "\n",
    "N = 12\n",
    "\n",
    "while True:\n",
    "    try:\n",
    "        tlf_dict = pd.read_pickle(\"./data/tlf_dict_2\")\n",
    "        break\n",
    "    except:\n",
    "        print(\"Waiting for tlf_dict_2\")\n",
    "        sleep(600)\n",
    "        pass\n",
    "\n",
    "\n",
    "tlf_tuplelist = list(tlf_dict.items())\n",
    "tlf_tuplelist_keys = [key[0] for key in tlf_tuplelist]\n",
    "vocab_size = 80000\n",
    "\n",
    "def texts_to_tlf_once(x):\n",
    "    # input : tokenized 된 문장 (noun으로 이루어진)\n",
    "    # output vocab_size * N 사이즈의 2차원 배열\n",
    "    tlf2d_vector = np.zeros((vocab_size, N))    \n",
    "    for word in x:\n",
    "        try:\n",
    "            idx = tlf_tuplelist_keys.index(word)\n",
    "            for i in range(N):\n",
    "                try:                \n",
    "                    tlf2d_vector[idx][i] += tlf_dict[word][i]\n",
    "                except:\n",
    "                    break\n",
    "        except:\n",
    "            continue\n",
    "    return tlf2d_vector\n",
    "\n",
    "def texts_to_tlf(x_train):\n",
    "    X_train = []\n",
    "    for x in x_train:\n",
    "        #print(x)\n",
    "        tlf2d_vector = texts_to_tlf_once(x)\n",
    "        X_train.append(tlf2d_vector)\n",
    "    return X_train\n"
   ]
  },
  {
   "cell_type": "code",
   "execution_count": 3,
   "metadata": {},
   "outputs": [],
   "source": [
    "x_train_tlf = texts_to_tlf(x_train)"
   ]
  },
  {
   "cell_type": "code",
   "execution_count": 5,
   "metadata": {},
   "outputs": [
    {
     "ename": "MemoryError",
     "evalue": "Unable to allocate 361. GiB for an array with shape (50411, 80000, 12) and data type float64",
     "output_type": "error",
     "traceback": [
      "\u001b[0;31m---------------------------------------------------------------------------\u001b[0m",
      "\u001b[0;31mMemoryError\u001b[0m                               Traceback (most recent call last)",
      "Cell \u001b[0;32mIn [5], line 1\u001b[0m\n\u001b[0;32m----> 1\u001b[0m x_np \u001b[39m=\u001b[39m np\u001b[39m.\u001b[39;49marray(x_train_tlf)\n\u001b[1;32m      2\u001b[0m \u001b[39mprint\u001b[39m(x_np\u001b[39m.\u001b[39mshape)\n",
      "\u001b[0;31mMemoryError\u001b[0m: Unable to allocate 361. GiB for an array with shape (50411, 80000, 12) and data type float64"
     ]
    }
   ],
   "source": [
    "x_np = np.array(x_train_tlf)\n",
    "print(x_np.shape)"
   ]
  }
 ],
 "metadata": {
  "kernelspec": {
   "display_name": "Python 3.9.15 ('tf': conda)",
   "language": "python",
   "name": "python3"
  },
  "language_info": {
   "codemirror_mode": {
    "name": "ipython",
    "version": 3
   },
   "file_extension": ".py",
   "mimetype": "text/x-python",
   "name": "python",
   "nbconvert_exporter": "python",
   "pygments_lexer": "ipython3",
   "version": "3.9.15"
  },
  "orig_nbformat": 4,
  "vscode": {
   "interpreter": {
    "hash": "be804b82f4b6c4507defaecc1db297e0af07cd9427439add2fdfb9df30e508f6"
   }
  }
 },
 "nbformat": 4,
 "nbformat_minor": 2
}
