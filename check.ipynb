{
 "cells": [
  {
   "cell_type": "code",
   "execution_count": 4,
   "metadata": {},
   "outputs": [],
   "source": [
    "import pandas as pd\n",
    "from time import sleep\n",
    "\n",
    "xs = pd.read_pickle('./data/x_train_4200_undersamp')\n",
    "ys = pd.read_pickle('./data/y_train_4200_undersamp')\n",
    "\n",
    "N = 12\n",
    "\n",
    "def append_xy(xs, ys, length=150):\n",
    "    app_x = []\n",
    "    app_y = []\n",
    "    \n",
    "    queue = [[] for _ in range(N)]\n",
    "    \n",
    "    for x, y in zip(xs, ys):\n",
    "        print(\"before :\",queue[y])\n",
    "        queue[y] += xs\n",
    "        print(\"xs :\",xs)\n",
    "        print(\"after :\",queue[y])\n",
    "        print(\"len :\", len(queue[y]))\n",
    "        sleep(1)\n",
    "        if len(queue[y]) > length:\n",
    "            app_x.append(queue[y])\n",
    "            app_y.append(y)\n",
    "            queue[y] = []\n",
    "    for i in range(N):\n",
    "        if len(queue[i]) != 0:\n",
    "            app_x.append(queue[i])\n",
    "            app_y.append(i)\n",
    "            queue[y] = []\n",
    "            \n",
    "    return app_x, app_y"
   ]
  },
  {
   "cell_type": "code",
   "execution_count": 5,
   "metadata": {},
   "outputs": [
    {
     "name": "stdout",
     "output_type": "stream",
     "text": [
      "50411 50411\n",
      "50411 50411\n"
     ]
    }
   ],
   "source": [
    "print(len(xs), len(ys))\n",
    "x_train, y_train = append_xy(xs, ys)\n",
    "print(len(x_train), len(y_train))"
   ]
  },
  {
   "cell_type": "code",
   "execution_count": 3,
   "metadata": {},
   "outputs": [
    {
     "name": "stdout",
     "output_type": "stream",
     "text": [
      "[28, 28, 28, 28, 28, 28, 28, 28, 28, 27, 28, 28]\n"
     ]
    }
   ],
   "source": [
    "lab = [0 for _ in range(N)]\n",
    "\n",
    "for y in y_train:\n",
    "    lab[y] += 1\n",
    "\n",
    "print(lab)"
   ]
  },
  {
   "cell_type": "code",
   "execution_count": 1,
   "metadata": {},
   "outputs": [
    {
     "name": "stderr",
     "output_type": "stream",
     "text": [
      "2022-12-10 03:39:56.381795: I tensorflow/core/platform/cpu_feature_guard.cc:193] This TensorFlow binary is optimized with oneAPI Deep Neural Network Library (oneDNN) to use the following CPU instructions in performance-critical operations:  AVX2 AVX_VNNI FMA\n",
      "To enable them in other operations, rebuild TensorFlow with the appropriate compiler flags.\n",
      "2022-12-10 03:39:56.452773: I tensorflow/core/util/port.cc:104] oneDNN custom operations are on. You may see slightly different numerical results due to floating-point round-off errors from different computation orders. To turn them off, set the environment variable `TF_ENABLE_ONEDNN_OPTS=0`.\n",
      "2022-12-10 03:39:56.775103: W tensorflow/compiler/xla/stream_executor/platform/default/dso_loader.cc:64] Could not load dynamic library 'libnvinfer.so.7'; dlerror: libnvinfer.so.7: cannot open shared object file: No such file or directory; LD_LIBRARY_PATH: :/usr/local/cuda-11.8/lib64:/usr/local/cuda-11.8/lib64\n",
      "2022-12-10 03:39:56.775145: W tensorflow/compiler/xla/stream_executor/platform/default/dso_loader.cc:64] Could not load dynamic library 'libnvinfer_plugin.so.7'; dlerror: libnvinfer_plugin.so.7: cannot open shared object file: No such file or directory; LD_LIBRARY_PATH: :/usr/local/cuda-11.8/lib64:/usr/local/cuda-11.8/lib64\n",
      "2022-12-10 03:39:56.775148: W tensorflow/compiler/tf2tensorrt/utils/py_utils.cc:38] TF-TRT Warning: Cannot dlopen some TensorRT libraries. If you would like to use Nvidia GPU with TensorRT, please make sure the missing libraries mentioned above are installed properly.\n"
     ]
    },
    {
     "name": "stdout",
     "output_type": "stream",
     "text": [
      "80259\n"
     ]
    }
   ],
   "source": [
    "import pandas as pd\n",
    "from tensorflow.keras.preprocessing.text import Tokenizer\n",
    "import pickle\n",
    "\n",
    "vocab_size = 50000\n",
    "N = 12\n",
    "ilf_dict = {}\n",
    "\n",
    "train_load_df = pd.read_pickle(\"./data/train_df.pkl\")\n",
    "#tlf_dict = pd.read_pickle(\"./data/tlf_dict\")\n",
    "x_train = train_load_df['sentence']\n",
    "y_train = train_load_df['label']\n",
    "\n",
    "ttokenizer = Tokenizer(num_words = vocab_size)\n",
    "ttokenizer.fit_on_texts(x_train)\n",
    "X_train = ttokenizer.texts_to_sequences(x_train)\n",
    "\n",
    "word_dic = ttokenizer.index_word\n",
    "\n",
    "print(len(word_dic))"
   ]
  },
  {
   "cell_type": "code",
   "execution_count": 2,
   "metadata": {},
   "outputs": [],
   "source": [
    "import pandas as pd\n",
    "\n",
    "tlf_dict = pd.read_pickle(\"./data/tlf_dict_2\")\n",
    "tlf_tuplelist = list(tlf_dict.items())\n",
    "tlf_tuplelist_keys = [key[0] for key in tlf_tuplelist]"
   ]
  },
  {
   "cell_type": "code",
   "execution_count": 3,
   "metadata": {},
   "outputs": [
    {
     "data": {
      "text/plain": [
       "'김봉태'"
      ]
     },
     "execution_count": 3,
     "metadata": {},
     "output_type": "execute_result"
    }
   ],
   "source": [
    "tlf_tuplelist_keys[20000]"
   ]
  },
  {
   "cell_type": "code",
   "execution_count": 4,
   "metadata": {},
   "outputs": [],
   "source": [
    "train_load_df = pd.read_pickle(\"./data/train_df.pkl\")\n",
    "train_sent = train_load_df['sentence']\n",
    "train_label = train_load_df['label']"
   ]
  },
  {
   "cell_type": "code",
   "execution_count": 5,
   "metadata": {},
   "outputs": [
    {
     "name": "stdout",
     "output_type": "stream",
     "text": [
      "[368737, 161471, 82812, 67875, 64002, 61957, 24679, 20823, 5668, 4945, 4200, 13356]\n"
     ]
    }
   ],
   "source": [
    "N = 12\n",
    "lab = [0 for _ in range(N)]\n",
    "for label in train_label:\n",
    "    lab[label] += 1\n",
    "print(lab)"
   ]
  },
  {
   "cell_type": "code",
   "execution_count": 7,
   "metadata": {},
   "outputs": [],
   "source": [
    "minimum = min(lab)\n",
    "# [368737, 161471, 82812, 67875, 64002, 61957, 24679, 20823, 5668, 4945, 4200, 13356]\n",
    "minimum = 368737"
   ]
  },
  {
   "cell_type": "code",
   "execution_count": 8,
   "metadata": {},
   "outputs": [
    {
     "name": "stdout",
     "output_type": "stream",
     "text": [
      "(880525,)\n",
      "(880525,)\n"
     ]
    },
    {
     "name": "stderr",
     "output_type": "stream",
     "text": [
      "/tmp/ipykernel_1227005/1029815814.py:14: VisibleDeprecationWarning: Creating an ndarray from ragged nested sequences (which is a list-or-tuple of lists-or-tuples-or ndarrays with different lengths or shapes) is deprecated. If you meant to do this, you must specify 'dtype=object' when creating the ndarray.\n",
      "  x_train = np.array(x_train)\n"
     ]
    }
   ],
   "source": [
    "import numpy as np\n",
    "\n",
    "curr = [0 for _ in range(N)]\n",
    "x_train = []\n",
    "y_train = []\n",
    "for x, y in zip(train_sent, train_label):\n",
    "    if curr[y] > minimum:\n",
    "        continue\n",
    "    else:\n",
    "        curr[y] += 1\n",
    "        x_train.append(x)\n",
    "        y_train.append(y)\n",
    "\n",
    "x_train = np.array(x_train)\n",
    "y_train = np.array(y_train)\n",
    "\n",
    "print(x_train.shape)\n",
    "print(y_train.shape)\n",
    "        "
   ]
  },
  {
   "cell_type": "code",
   "execution_count": 9,
   "metadata": {},
   "outputs": [],
   "source": [
    "import pickle\n",
    "\n",
    "with open('./data/x_train_oversamp', 'wb') as file_pi:\n",
    "    pickle.dump(x_train, file_pi)\n",
    "with open('./data/y_train_oversamp', 'wb') as file_pi:\n",
    "    pickle.dump(y_train, file_pi)"
   ]
  },
  {
   "cell_type": "code",
   "execution_count": 49,
   "metadata": {},
   "outputs": [
    {
     "name": "stdout",
     "output_type": "stream",
     "text": [
      "Model: \"model_12\"\n",
      "_________________________________________________________________\n",
      " Layer (type)                Output Shape              Param #   \n",
      "=================================================================\n",
      " txt_input (InputLayer)      [(None, 20000, 12, 1)]    0         \n",
      "                                                                 \n",
      " block1_conv1 (Conv2D)       (None, 20000, 12, 64)     640       \n",
      "                                                                 \n",
      " block1_conv2 (Conv2D)       (None, 20000, 12, 64)     36928     \n",
      "                                                                 \n",
      " block1_pool (MaxPooling2D)  (None, 5000, 12, 64)      0         \n",
      "                                                                 \n",
      " block2_conv1 (Conv2D)       (None, 5000, 12, 128)     73856     \n",
      "                                                                 \n",
      " block2_conv2 (Conv2D)       (None, 5000, 12, 128)     147584    \n",
      "                                                                 \n",
      " block2_pool (MaxPooling2D)  (None, 1250, 12, 128)     0         \n",
      "                                                                 \n",
      " block3_conv1 (Conv2D)       (None, 1250, 12, 256)     295168    \n",
      "                                                                 \n",
      " block3_conv2 (Conv2D)       (None, 1250, 12, 256)     590080    \n",
      "                                                                 \n",
      " block3_pool (MaxPooling2D)  (None, 312, 12, 256)      0         \n",
      "                                                                 \n",
      " block4_conv1 (Conv2D)       (None, 312, 12, 512)      1180160   \n",
      "                                                                 \n",
      " block4_conv2 (Conv2D)       (None, 312, 12, 512)      2359808   \n",
      "                                                                 \n",
      " block4_pool (MaxPooling2D)  (None, 78, 12, 512)       0         \n",
      "                                                                 \n",
      " block5_conv1 (Conv2D)       (None, 78, 12, 1024)      4719616   \n",
      "                                                                 \n",
      " block5_conv2 (Conv2D)       (None, 78, 12, 1024)      9438208   \n",
      "                                                                 \n",
      " block5_pool (MaxPooling2D)  (None, 19, 12, 1024)      0         \n",
      "                                                                 \n",
      " flatten_12 (Flatten)        (None, 233472)            0         \n",
      "                                                                 \n",
      " dense_12 (Dense)            (None, 12)                2801676   \n",
      "                                                                 \n",
      "=================================================================\n",
      "Total params: 21,643,724\n",
      "Trainable params: 21,643,724\n",
      "Non-trainable params: 0\n",
      "_________________________________________________________________\n"
     ]
    }
   ],
   "source": [
    "from tensorflow.keras.layers import Dense, Dropout, Input, Conv2D, MaxPooling2D, Flatten\n",
    "from tensorflow.keras.models import Model\n",
    "\n",
    "vocab_size = 20000\n",
    "txtInput = Input(shape=(vocab_size, N, 1, ), name = 'txt_input')\n",
    "img = Conv2D(64, (3,3), padding='same', name='block1_conv1', activation='relu')(txtInput)\n",
    "img = Conv2D(64, (3,3), padding='same', name='block1_conv2', activation='relu')(img)\n",
    "#img = Conv2D(64, (3,3), padding='same', name='block1_conv3', activation='relu')(img)\n",
    "img = MaxPooling2D((4,1), name='block1_pool')(img)\n",
    "img = Conv2D(128, (3,3), padding='same', name='block2_conv1', activation='relu')(img)\n",
    "img = Conv2D(128, (3,3), padding='same', name='block2_conv2', activation='relu')(img)\n",
    "#img = Conv2D(128, (3,3), padding='same', name='block2_conv3', activation='relu')(img)\n",
    "img = MaxPooling2D((4,1), name='block2_pool')(img)\n",
    "img = Conv2D(256, (3,3), padding='same', name='block3_conv1', activation='relu')(img)\n",
    "img = Conv2D(256, (3,3), padding='same', name='block3_conv2', activation='relu')(img)\n",
    "#img = Conv2D(256, (3,3), padding='same', name='block3_conv3', activation='relu')(img)\n",
    "img = MaxPooling2D((4,1), name='block3_pool')(img)\n",
    "img = Conv2D(512, (3,3), padding='same', name='block4_conv1', activation='relu')(img)\n",
    "img = Conv2D(512, (3,3), padding='same', name='block4_conv2', activation='relu')(img)\n",
    "img = MaxPooling2D((4,1), name='block4_pool')(img)\n",
    "img = Conv2D(1024, (3,3), padding='same', name='block5_conv1', activation='relu')(img)\n",
    "img = Conv2D(1024, (3,3), padding='same', name='block5_conv2', activation='relu')(img)\n",
    "img = MaxPooling2D((4,1), name='block5_pool')(img)\n",
    "img = Flatten()(img)\n",
    "output = Dense(N, activation='softmax')(img)\n",
    "\n",
    "model = Model(inputs = txtInput, outputs = output)\n",
    "model.compile(optimizer='adam', loss='categorical_crossentropy', metrics=[\"accuracy\"])\n",
    "\n",
    "model.summary()"
   ]
  },
  {
   "cell_type": "code",
   "execution_count": 12,
   "metadata": {},
   "outputs": [
    {
     "name": "stdout",
     "output_type": "stream",
     "text": [
      "Model: \"model_4\"\n",
      "__________________________________________________________________________________________________\n",
      " Layer (type)                   Output Shape         Param #     Connected to                     \n",
      "==================================================================================================\n",
      " img_input (InputLayer)         [(None, 50000, 12,   0           []                               \n",
      "                                1)]                                                               \n",
      "                                                                                                  \n",
      " block1_conv1 (Conv2D)          (None, 50000, 12, 6  640         ['img_input[0][0]']              \n",
      "                                4)                                                                \n",
      "                                                                                                  \n",
      " block1_conv2 (Conv2D)          (None, 50000, 12, 6  36928       ['block1_conv1[0][0]']           \n",
      "                                4)                                                                \n",
      "                                                                                                  \n",
      " block1_pool (MaxPooling2D)     (None, 12500, 12, 6  0           ['block1_conv2[0][0]']           \n",
      "                                4)                                                                \n",
      "                                                                                                  \n",
      " block2_conv1 (Conv2D)          (None, 12500, 12, 1  73856       ['block1_pool[0][0]']            \n",
      "                                28)                                                               \n",
      "                                                                                                  \n",
      " block2_conv2 (Conv2D)          (None, 12500, 12, 1  147584      ['block2_conv1[0][0]']           \n",
      "                                28)                                                               \n",
      "                                                                                                  \n",
      " block2_pool (MaxPooling2D)     (None, 3125, 12, 12  0           ['block2_conv2[0][0]']           \n",
      "                                8)                                                                \n",
      "                                                                                                  \n",
      " block3_conv1 (Conv2D)          (None, 3125, 12, 25  295168      ['block2_pool[0][0]']            \n",
      "                                6)                                                                \n",
      "                                                                                                  \n",
      " block3_conv2 (Conv2D)          (None, 3125, 12, 25  590080      ['block3_conv1[0][0]']           \n",
      "                                6)                                                                \n",
      "                                                                                                  \n",
      " block3_pool (MaxPooling2D)     (None, 781, 12, 256  0           ['block3_conv2[0][0]']           \n",
      "                                )                                                                 \n",
      "                                                                                                  \n",
      " txt_input (InputLayer)         [(None, 520)]        0           []                               \n",
      "                                                                                                  \n",
      " block4_conv1 (Conv2D)          (None, 781, 12, 512  1180160     ['block3_pool[0][0]']            \n",
      "                                )                                                                 \n",
      "                                                                                                  \n",
      " embedding_11 (Embedding)       (None, 520, 100)     5000000     ['txt_input[0][0]']              \n",
      "                                                                                                  \n",
      " block4_conv2 (Conv2D)          (None, 781, 12, 512  2359808     ['block4_conv1[0][0]']           \n",
      "                                )                                                                 \n",
      "                                                                                                  \n",
      " gru_14 (GRU)                   (None, 520, 512)     943104      ['embedding_11[0][0]']           \n",
      "                                                                                                  \n",
      " block4_pool (MaxPooling2D)     (None, 195, 12, 512  0           ['block4_conv2[0][0]']           \n",
      "                                )                                                                 \n",
      "                                                                                                  \n",
      " dropout_17 (Dropout)           (None, 520, 512)     0           ['gru_14[0][0]']                 \n",
      "                                                                                                  \n",
      " block5_conv1 (Conv2D)          (None, 195, 12, 102  4719616     ['block4_pool[0][0]']            \n",
      "                                4)                                                                \n",
      "                                                                                                  \n",
      " gru_15 (GRU)                   (None, 520, 512)     1575936     ['dropout_17[0][0]']             \n",
      "                                                                                                  \n",
      " block5_conv2 (Conv2D)          (None, 195, 12, 102  9438208     ['block5_conv1[0][0]']           \n",
      "                                4)                                                                \n",
      "                                                                                                  \n",
      " dropout_18 (Dropout)           (None, 520, 512)     0           ['gru_15[0][0]']                 \n",
      "                                                                                                  \n",
      " block5_pool (MaxPooling2D)     (None, 48, 12, 1024  0           ['block5_conv2[0][0]']           \n",
      "                                )                                                                 \n",
      "                                                                                                  \n",
      " gru_16 (GRU)                   (None, 512)          1575936     ['dropout_18[0][0]']             \n",
      "                                                                                                  \n",
      " flatten_4 (Flatten)            (None, 589824)       0           ['block5_pool[0][0]']            \n",
      "                                                                                                  \n",
      " dense_9 (Dense)                (None, 512)          262656      ['gru_16[0][0]']                 \n",
      "                                                                                                  \n",
      " concatenate_4 (Concatenate)    (None, 590336)       0           ['flatten_4[0][0]',              \n",
      "                                                                  'dense_9[0][0]']                \n",
      "                                                                                                  \n",
      " dropout_19 (Dropout)           (None, 590336)       0           ['concatenate_4[0][0]']          \n",
      "                                                                                                  \n",
      " dense_10 (Dense)               (None, 12)           7084044     ['dropout_19[0][0]']             \n",
      "                                                                                                  \n",
      "==================================================================================================\n",
      "Total params: 35,283,724\n",
      "Trainable params: 35,283,724\n",
      "Non-trainable params: 0\n",
      "__________________________________________________________________________________________________\n"
     ]
    }
   ],
   "source": [
    "from tensorflow.keras.layers import concatenate, Dense, Dropout, Input, Conv2D, MaxPooling2D, Flatten, Embedding, GRU\n",
    "from tensorflow.keras.models import Model\n",
    "\n",
    "vocab_size = 50000 # 사용할 단어의 개수 (빈도 순)\n",
    "N = 12 # 분류할 label의 종류\n",
    "usage = 0.8 # 현재 data의 크기가 커서, generator를 만들기 전까지 이걸로 사용\n",
    "max_len = 520 # padding을 맞출 문장의 최대 길이\n",
    "embedding_dim = 100 # 임베딩 차원\n",
    "dropout_rate = 0.3\n",
    "\n",
    "txtInput = Input(shape=(max_len,), name='txt_input')\n",
    "txt = Embedding(vocab_size, embedding_dim, input_length=max_len)(txtInput)\n",
    "txt = GRU(512, return_sequences=True)(txt)\n",
    "txt = Dropout(dropout_rate)(txt)\n",
    "txt = GRU(512, return_sequences=True)(txt)\n",
    "txt = Dropout(dropout_rate)(txt)\n",
    "txt = GRU(512)(txt)\n",
    "txt = Dense(512, activation='relu')(txt)\n",
    "\n",
    "imgInput = Input(shape=(vocab_size, N, 1, ), name = 'img_input')\n",
    "img = Conv2D(64, (3,3), padding='same', name='block1_conv1', activation='relu')(imgInput)\n",
    "img = Conv2D(64, (3,3), padding='same', name='block1_conv2', activation='relu')(img)\n",
    "#img = Conv2D(64, (3,3), padding='same', name='block1_conv3', activation='relu')(img)\n",
    "img = MaxPooling2D((4,1), name='block1_pool')(img)\n",
    "img = Conv2D(128, (3,3), padding='same', name='block2_conv1', activation='relu')(img)\n",
    "img = Conv2D(128, (3,3), padding='same', name='block2_conv2', activation='relu')(img)\n",
    "#img = Conv2D(128, (3,3), padding='same', name='block2_conv3', activation='relu')(img)\n",
    "img = MaxPooling2D((4,1), name='block2_pool')(img)\n",
    "img = Conv2D(256, (3,3), padding='same', name='block3_conv1', activation='relu')(img)\n",
    "img = Conv2D(256, (3,3), padding='same', name='block3_conv2', activation='relu')(img)\n",
    "#img = Conv2D(256, (3,3), padding='same', name='block3_conv3', activation='relu')(img)\n",
    "img = MaxPooling2D((4,1), name='block3_pool')(img)\n",
    "img = Conv2D(512, (3,3), padding='same', name='block4_conv1', activation='relu')(img)\n",
    "img = Conv2D(512, (3,3), padding='same', name='block4_conv2', activation='relu')(img)\n",
    "img = MaxPooling2D((4,1), name='block4_pool')(img)\n",
    "img = Conv2D(1024, (3,3), padding='same', name='block5_conv1', activation='relu')(img)\n",
    "img = Conv2D(1024, (3,3), padding='same', name='block5_conv2', activation='relu')(img)\n",
    "img = MaxPooling2D((4,1), name='block5_pool')(img)\n",
    "img = Flatten()(img)\n",
    "\n",
    "output = concatenate([img, txt], axis=-1)\n",
    "output = Dropout(dropout_rate)(output)\n",
    "output = Dense(N, activation='softmax')(output)\n",
    "\n",
    "model = Model(inputs = [imgInput, txtInput], outputs = output)\n",
    "model.compile(optimizer='adam', loss='categorical_crossentropy', metrics=[\"accuracy\"])\n",
    "\n",
    "model.summary()"
   ]
  }
 ],
 "metadata": {
  "kernelspec": {
   "display_name": "Python 3.9.12 ('tf': conda)",
   "language": "python",
   "name": "python3"
  },
  "language_info": {
   "codemirror_mode": {
    "name": "ipython",
    "version": 3
   },
   "file_extension": ".py",
   "mimetype": "text/x-python",
   "name": "python",
   "nbconvert_exporter": "python",
   "pygments_lexer": "ipython3",
   "version": "3.9.15"
  },
  "orig_nbformat": 4,
  "vscode": {
   "interpreter": {
    "hash": "be804b82f4b6c4507defaecc1db297e0af07cd9427439add2fdfb9df30e508f6"
   }
  }
 },
 "nbformat": 4,
 "nbformat_minor": 2
}
